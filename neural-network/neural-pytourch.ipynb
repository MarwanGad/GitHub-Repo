{
 "cells": [
  {
   "cell_type": "code",
   "execution_count": 1,
   "metadata": {},
   "outputs": [],
   "source": [
    "import torch\n",
    "import torch.nn as nn\n",
    "import torch.optim as optim\n",
    "import pandas as pd\n",
    "import numpy as np\n",
    "from sklearn.model_selection import train_test_split\n",
    "from torch.utils.data import TensorDataset, DataLoader\n",
    "import matplotlib.pyplot as plt\n"
   ]
  },
  {
   "cell_type": "code",
   "execution_count": 3,
   "metadata": {},
   "outputs": [],
   "source": [
    "data = pd.read_csv('train.csv').to_numpy()\n",
    "\n",
    "X = data[:, 1:] / 255.0  \n",
    "Y = data[:, 0]           \n",
    "\n",
    "X_train, X_val, Y_train, Y_val = train_test_split(X, Y, test_size=0.2, random_state=42)\n",
    "\n",
    "X_train = torch.tensor(X_train, dtype=torch.float32)\n",
    "Y_train = torch.tensor(Y_train, dtype=torch.long)\n",
    "X_val = torch.tensor(X_val, dtype=torch.float32)\n",
    "Y_val = torch.tensor(Y_val, dtype=torch.long)\n",
    "\n",
    "train_dataset = TensorDataset(X_train, Y_train)\n",
    "val_dataset = TensorDataset(X_val, Y_val)\n",
    "train_loader = DataLoader(train_dataset, batch_size=32, shuffle=True)\n",
    "val_loader = DataLoader(val_dataset, batch_size=32, shuffle=False)\n"
   ]
  },
  {
   "cell_type": "code",
   "execution_count": 4,
   "metadata": {},
   "outputs": [],
   "source": [
    "class SimpleNN(nn.Module):\n",
    "    def __init__(self):\n",
    "        super(SimpleNN, self).__init__()\n",
    "        self.fc1 = nn.Linear(784, 128)  \n",
    "        self.fc2 = nn.Linear(128, 10)   \n",
    "\n",
    "    def forward(self, x):\n",
    "        x = torch.relu(self.fc1(x))   \n",
    "        x = self.fc2(x)               \n",
    "        return x  \n"
   ]
  },
  {
   "cell_type": "code",
   "execution_count": 5,
   "metadata": {},
   "outputs": [],
   "source": [
    "model = SimpleNN()\n",
    "\n",
    "criterion = nn.CrossEntropyLoss()\n",
    "optimizer = optim.SGD(model.parameters(), lr=0.1)\n"
   ]
  },
  {
   "cell_type": "code",
   "execution_count": 6,
   "metadata": {},
   "outputs": [
    {
     "name": "stdout",
     "output_type": "stream",
     "text": [
      "Epoch 1/10, Loss: 0.4273\n",
      "Validation Accuracy: 0.9250\n",
      "Epoch 2/10, Loss: 0.2118\n",
      "Validation Accuracy: 0.9396\n",
      "Epoch 3/10, Loss: 0.1551\n",
      "Validation Accuracy: 0.9526\n",
      "Epoch 4/10, Loss: 0.1226\n",
      "Validation Accuracy: 0.9570\n",
      "Epoch 5/10, Loss: 0.1003\n",
      "Validation Accuracy: 0.9625\n",
      "Epoch 6/10, Loss: 0.0837\n",
      "Validation Accuracy: 0.9650\n",
      "Epoch 7/10, Loss: 0.0711\n",
      "Validation Accuracy: 0.9685\n",
      "Epoch 8/10, Loss: 0.0621\n",
      "Validation Accuracy: 0.9675\n",
      "Epoch 9/10, Loss: 0.0538\n",
      "Validation Accuracy: 0.9687\n",
      "Epoch 10/10, Loss: 0.0473\n",
      "Validation Accuracy: 0.9706\n"
     ]
    }
   ],
   "source": [
    "def train_model(model, criterion, optimizer, train_loader, val_loader, epochs=10):\n",
    "    for epoch in range(epochs):\n",
    "        model.train()  \n",
    "        running_loss = 0.0\n",
    "\n",
    "        for inputs, labels in train_loader:\n",
    "            optimizer.zero_grad() \n",
    "\n",
    "            outputs = model(inputs)  \n",
    "            loss = criterion(outputs, labels)  \n",
    "            loss.backward()  \n",
    "            optimizer.step() \n",
    "\n",
    "            running_loss += loss.item() * inputs.size(0)\n",
    "\n",
    "        epoch_loss = running_loss / len(train_loader.dataset)\n",
    "        print(f'Epoch {epoch+1}/{epochs}, Loss: {epoch_loss:.4f}')\n",
    "\n",
    "        \n",
    "        model.eval()  \n",
    "        correct = 0\n",
    "        total = 0\n",
    "\n",
    "        with torch.no_grad():\n",
    "            for inputs, labels in val_loader:\n",
    "                outputs = model(inputs)\n",
    "                _, predicted = torch.max(outputs.data, 1)\n",
    "                total += labels.size(0)\n",
    "                correct += (predicted == labels).sum().item()\n",
    "\n",
    "        accuracy = correct / total\n",
    "        print(f'Validation Accuracy: {accuracy:.4f}')\n",
    "\n",
    "train_model(model, criterion, optimizer, train_loader, val_loader)\n"
   ]
  },
  {
   "cell_type": "code",
   "execution_count": 7,
   "metadata": {},
   "outputs": [
    {
     "name": "stdout",
     "output_type": "stream",
     "text": [
      "Prediction: 8, Label: 8\n"
     ]
    },
    {
     "data": {
      "image/png": "[encoded data removed]",
      "text/plain": [
       "<Figure size 640x480 with 1 Axes>"
      ]
     },
     "metadata": {},
     "output_type": "display_data"
    }
   ],
   "source": [
    "def test_prediction(index, X_val, Y_val, model):\n",
    "    model.eval()  \n",
    "    with torch.no_grad():\n",
    "        image = X_val[index]\n",
    "        label = Y_val[index].item()\n",
    "        output = model(image.unsqueeze(0)) \n",
    "        _, predicted = torch.max(output.data, 1)\n",
    "        prediction = predicted.item()\n",
    "\n",
    "    print(f\"Prediction: {prediction}, Label: {label}\")\n",
    "\n",
    "    image = image.reshape(28, 28) * 255  \n",
    "    plt.gray()\n",
    "    plt.imshow(image, interpolation='nearest')\n",
    "    plt.show()\n",
    "\n",
    "test_prediction(0, X_val, Y_val, model)\n"
   ]
  }
 ],
 "metadata": {
  "kernelspec": {
   "display_name": "Python 3",
   "language": "python",
   "name": "python3"
  },
  "language_info": {
   "codemirror_mode": {
    "name": "ipython",
    "version": 3
   },
   "file_extension": ".py",
   "mimetype": "text/x-python",
   "name": "python",
   "nbconvert_exporter": "python",
   "pygments_lexer": "ipython3",
   "version": "3.11.4"
  }
 },
 "nbformat": 4,
 "nbformat_minor": 2
}
