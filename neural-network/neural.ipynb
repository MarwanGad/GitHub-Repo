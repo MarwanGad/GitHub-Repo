{
 "cells": [
  {
   "cell_type": "code",
   "execution_count": 14,
   "metadata": {},
   "outputs": [],
   "source": [
    "import numpy as np\n",
    "import pandas as pd\n",
    "import matplotlib.pyplot as plt\n",
    "\n",
    "data = pd.read_csv('train.csv').to_numpy()\n",
    "\n",
    "m, n = data.shape\n",
    "np.random.shuffle(data)  \n",
    "\n",
    "data_dev = data[0:1000].T\n",
    "Y_dev = data_dev[0]  \n",
    "X_dev = data_dev[1:n] / 255.  \n",
    "\n",
    "data_train = data[1000:m].T\n",
    "Y_train = data_train[0]  \n",
    "X_train = data_train[1:n] / 255.  \n",
    "_, m_train = X_train.shape\n"
   ]
  },
  {
   "cell_type": "code",
   "execution_count": 15,
   "metadata": {},
   "outputs": [],
   "source": [
    "def init_params():\n",
    "    W1 = np.random.rand(10, 784) - 0.5\n",
    "    b1 = np.random.rand(10, 1) - 0.5\n",
    "    W2 = np.random.rand(10, 10) - 0.5\n",
    "    b2 = np.random.rand(10, 1) - 0.5\n",
    "    return W1, b1, W2, b2\n"
   ]
  },
  {
   "cell_type": "code",
   "execution_count": 16,
   "metadata": {},
   "outputs": [],
   "source": [
    "def ReLU(Z):\n",
    "    return np.maximum(Z, 0)\n",
    "\n",
    "def softmax(Z):\n",
    "    A = np.exp(Z) / np.sum(np.exp(Z), axis=0)\n",
    "    return A\n"
   ]
  },
  {
   "cell_type": "code",
   "execution_count": 17,
   "metadata": {},
   "outputs": [],
   "source": [
    "def forward_prop(W1, b1, W2, b2, X):\n",
    "    Z1 = W1.dot(X) + b1\n",
    "    A1 = ReLU(Z1)\n",
    "    Z2 = W2.dot(A1) + b2\n",
    "    A2 = softmax(Z2)\n",
    "    return Z1, A1, Z2, A2\n"
   ]
  },
  {
   "cell_type": "code",
   "execution_count": 18,
   "metadata": {},
   "outputs": [],
   "source": [
    "def ReLU_deriv(Z):\n",
    "    return Z > 0\n",
    "\n",
    "def one_hot(Y):\n",
    "    one_hot_Y = np.zeros((Y.size, Y.max() + 1))\n",
    "    one_hot_Y[np.arange(Y.size), Y] = 1\n",
    "    one_hot_Y = one_hot_Y.T\n",
    "    return one_hot_Y\n",
    "\n",
    "def backward_prop(Z1, A1, Z2, A2, W1, W2, X, Y):\n",
    "    one_hot_Y = one_hot(Y)\n",
    "    dZ2 = A2 - one_hot_Y\n",
    "    dW2 = 1 / m_train * dZ2.dot(A1.T)\n",
    "    db2 = 1 / m_train * np.sum(dZ2, axis=1, keepdims=True)\n",
    "    dZ1 = W2.T.dot(dZ2) * ReLU_deriv(Z1)\n",
    "    dW1 = 1 / m_train * dZ1.dot(X.T)\n",
    "    db1 = 1 / m_train * np.sum(dZ1, axis=1, keepdims=True)\n",
    "    return dW1, db1, dW2, db2\n"
   ]
  },
  {
   "cell_type": "code",
   "execution_count": 19,
   "metadata": {},
   "outputs": [],
   "source": [
    "def update_params(W1, b1, W2, b2, dW1, db1, dW2, db2, alpha):\n",
    "    W1 = W1 - alpha * dW1\n",
    "    b1 = b1 - alpha * db1    \n",
    "    W2 = W2 - alpha * dW2  \n",
    "    b2 = b2 - alpha * db2    \n",
    "    return W1, b1, W2, b2\n"
   ]
  },
  {
   "cell_type": "code",
   "execution_count": 20,
   "metadata": {},
   "outputs": [],
   "source": [
    "def get_predictions(A2):\n",
    "    return np.argmax(A2, 0)\n",
    "\n",
    "def get_accuracy(predictions, Y):\n",
    "    return np.sum(predictions == Y) / Y.size\n"
   ]
  },
  {
   "cell_type": "code",
   "execution_count": 21,
   "metadata": {},
   "outputs": [
    {
     "name": "stdout",
     "output_type": "stream",
     "text": [
      "Iteration: 0\n",
      "Accuracy: 0.09885365853658537\n",
      "Iteration: 10\n",
      "Accuracy: 0.19\n",
      "Iteration: 20\n",
      "Accuracy: 0.2386341463414634\n",
      "Iteration: 30\n",
      "Accuracy: 0.2830731707317073\n",
      "Iteration: 40\n",
      "Accuracy: 0.33126829268292685\n",
      "Iteration: 50\n",
      "Accuracy: 0.39202439024390245\n",
      "Iteration: 60\n",
      "Accuracy: 0.4446341463414634\n",
      "Iteration: 70\n",
      "Accuracy: 0.4865609756097561\n",
      "Iteration: 80\n",
      "Accuracy: 0.5222439024390244\n",
      "Iteration: 90\n",
      "Accuracy: 0.5538536585365854\n",
      "Iteration: 100\n",
      "Accuracy: 0.5829268292682926\n",
      "Iteration: 110\n",
      "Accuracy: 0.6086585365853658\n",
      "Iteration: 120\n",
      "Accuracy: 0.6330975609756098\n",
      "Iteration: 130\n",
      "Accuracy: 0.6544390243902439\n",
      "Iteration: 140\n",
      "Accuracy: 0.6728048780487805\n",
      "Iteration: 150\n",
      "Accuracy: 0.6873414634146342\n",
      "Iteration: 160\n",
      "Accuracy: 0.7018048780487804\n",
      "Iteration: 170\n",
      "Accuracy: 0.7136585365853658\n",
      "Iteration: 180\n",
      "Accuracy: 0.7245121951219512\n",
      "Iteration: 190\n",
      "Accuracy: 0.7335609756097561\n",
      "Iteration: 200\n",
      "Accuracy: 0.7423658536585366\n",
      "Iteration: 210\n",
      "Accuracy: 0.7503414634146341\n",
      "Iteration: 220\n",
      "Accuracy: 0.7580731707317073\n",
      "Iteration: 230\n",
      "Accuracy: 0.7654390243902439\n",
      "Iteration: 240\n",
      "Accuracy: 0.7715121951219512\n",
      "Iteration: 250\n",
      "Accuracy: 0.7769512195121951\n",
      "Iteration: 260\n",
      "Accuracy: 0.7821951219512195\n",
      "Iteration: 270\n",
      "Accuracy: 0.7865609756097561\n",
      "Iteration: 280\n",
      "Accuracy: 0.7910975609756098\n",
      "Iteration: 290\n",
      "Accuracy: 0.7954146341463415\n",
      "Iteration: 300\n",
      "Accuracy: 0.799609756097561\n",
      "Iteration: 310\n",
      "Accuracy: 0.8035609756097561\n",
      "Iteration: 320\n",
      "Accuracy: 0.8077317073170732\n",
      "Iteration: 330\n",
      "Accuracy: 0.8106585365853659\n",
      "Iteration: 340\n",
      "Accuracy: 0.8140243902439024\n",
      "Iteration: 350\n",
      "Accuracy: 0.817390243902439\n",
      "Iteration: 360\n",
      "Accuracy: 0.8196341463414634\n",
      "Iteration: 370\n",
      "Accuracy: 0.821780487804878\n",
      "Iteration: 380\n",
      "Accuracy: 0.8242439024390243\n",
      "Iteration: 390\n",
      "Accuracy: 0.8264146341463414\n",
      "Iteration: 400\n",
      "Accuracy: 0.8283414634146341\n",
      "Iteration: 410\n",
      "Accuracy: 0.8307073170731707\n",
      "Iteration: 420\n",
      "Accuracy: 0.833\n",
      "Iteration: 430\n",
      "Accuracy: 0.8347317073170731\n",
      "Iteration: 440\n",
      "Accuracy: 0.8365121951219512\n",
      "Iteration: 450\n",
      "Accuracy: 0.8382439024390244\n",
      "Iteration: 460\n",
      "Accuracy: 0.8399512195121951\n",
      "Iteration: 470\n",
      "Accuracy: 0.841390243902439\n",
      "Iteration: 480\n",
      "Accuracy: 0.8431219512195122\n",
      "Iteration: 490\n",
      "Accuracy: 0.8445853658536585\n"
     ]
    }
   ],
   "source": [
    "def gradient_descent(X, Y, alpha, iterations):\n",
    "    W1, b1, W2, b2 = init_params()\n",
    "    for i in range(iterations):\n",
    "        Z1, A1, Z2, A2 = forward_prop(W1, b1, W2, b2, X)\n",
    "        dW1, db1, dW2, db2 = backward_prop(Z1, A1, Z2, A2, W1, W2, X, Y)\n",
    "        W1, b1, W2, b2 = update_params(W1, b1, W2, b2, dW1, db1, dW2, db2, alpha)\n",
    "        if i % 10 == 0:\n",
    "            print(f\"Iteration: {i}\")\n",
    "            predictions = get_predictions(A2)\n",
    "            print(f\"Accuracy: {get_accuracy(predictions, Y)}\")\n",
    "    return W1, b1, W2, b2\n",
    "\n",
    "W1, b1, W2, b2 = gradient_descent(X_train, Y_train, 0.10, 500)\n"
   ]
  },
  {
   "cell_type": "code",
   "execution_count": 22,
   "metadata": {},
   "outputs": [
    {
     "name": "stdout",
     "output_type": "stream",
     "text": [
      "Prediction: [1]\n",
      "Label: 1\n"
     ]
    },
    {
     "data": {
      "image/png": "[encoded data removed]",
      "text/plain": [
       "<Figure size 640x480 with 1 Axes>"
      ]
     },
     "metadata": {},
     "output_type": "display_data"
    }
   ],
   "source": [
    "def make_predictions(X, W1, b1, W2, b2):\n",
    "    _, _, _, A2 = forward_prop(W1, b1, W2, b2, X)\n",
    "    predictions = get_predictions(A2)\n",
    "    return predictions\n",
    "\n",
    "def test_prediction(index, W1, b1, W2, b2):\n",
    "    current_image = X_train[:, index, None]\n",
    "    prediction = make_predictions(current_image, W1, b1, W2, b2)\n",
    "    label = Y_train[index]\n",
    "    print(f\"Prediction: {prediction}\")\n",
    "    print(f\"Label: {label}\")\n",
    "    \n",
    "    current_image = current_image.reshape((28, 28)) * 255\n",
    "    plt.gray()\n",
    "    plt.imshow(current_image, interpolation='nearest')\n",
    "    plt.show()\n",
    "\n",
    "test_prediction(0, W1, b1, W2, b2)\n"
   ]
  }
 ],
 "metadata": {
  "kernelspec": {
   "display_name": "Python 3",
   "language": "python",
   "name": "python3"
  },
  "language_info": {
   "codemirror_mode": {
    "name": "ipython",
    "version": 3
   },
   "file_extension": ".py",
   "mimetype": "text/x-python",
   "name": "python",
   "nbconvert_exporter": "python",
   "pygments_lexer": "ipython3",
   "version": "3.11.4"
  }
 },
 "nbformat": 4,
 "nbformat_minor": 2
}
